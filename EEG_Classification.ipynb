{
  "nbformat": 4,
  "nbformat_minor": 0,
  "metadata": {
    "colab": {
      "provenance": [],
      "collapsed_sections": [
        "AtzWWpmDaFTs",
        "hFbsW0JJubEW",
        "y-PG_ZjKILTM"
      ],
      "include_colab_link": true
    },
    "kernelspec": {
      "name": "python3",
      "display_name": "Python 3"
    },
    "language_info": {
      "name": "python"
    }
  },
  "cells": [
    {
      "cell_type": "markdown",
      "metadata": {
        "id": "view-in-github",
        "colab_type": "text"
      },
      "source": [
        "<a href=\"https://colab.research.google.com/github/Bishara10/EEG-Classification/blob/main/EEG_Classification.ipynb\" target=\"_parent\"><img src=\"https://colab.research.google.com/assets/colab-badge.svg\" alt=\"Open In Colab\"/></a>"
      ]
    },
    {
      "cell_type": "markdown",
      "source": [
        "# Import Libraries and Prerequisites\n"
      ],
      "metadata": {
        "id": "AtzWWpmDaFTs"
      }
    },
    {
      "cell_type": "code",
      "source": [
        "# Cloning my repository to acquire dataset.\n",
        "!git clone https://github.com/BPy5/ML-Classification-model-For-EEG-Recordings.git"
      ],
      "metadata": {
        "colab": {
          "base_uri": "https://localhost:8080/"
        },
        "id": "Bg0qfQlM76lo",
        "outputId": "6450b7bc-c050-4da4-8426-cb8908489670"
      },
      "execution_count": 1,
      "outputs": [
        {
          "output_type": "stream",
          "name": "stdout",
          "text": [
            "fatal: destination path 'ML-Classification-model-For-EEG-Recordings' already exists and is not an empty directory.\n"
          ]
        }
      ]
    },
    {
      "cell_type": "code",
      "execution_count": 2,
      "metadata": {
        "id": "alzsODU3ZAxk"
      },
      "outputs": [],
      "source": [
        "import numpy as np\n",
        "import pandas as pd\n",
        "import matplotlib.pyplot as plt\n",
        "import seaborn as sns\n",
        "from sklearn.svm import SVC\n",
        "from sklearn.metrics import confusion_matrix, classification_report, accuracy_score\n",
        "from sklearn.model_selection import train_test_split\n",
        "from sklearn.utils import shuffle\n",
        "from scipy.signal import resample, butter, filtfilt\n",
        "from scipy.stats import pearsonr\n",
        "\n",
        "\n",
        "%matplotlib notebook\n",
        "%matplotlib inline"
      ]
    },
    {
      "cell_type": "markdown",
      "source": [
        "# Preprocess dataset"
      ],
      "metadata": {
        "id": "MViuh-4rcuPx"
      }
    },
    {
      "cell_type": "markdown",
      "source": [
        "### Load Data"
      ],
      "metadata": {
        "id": "Gv7CDSOatgAO"
      }
    },
    {
      "cell_type": "code",
      "source": [
        "# File names for patient recordings\n",
        "file_names_adhd_dataset = ['v8p.csv', 'v35p.csv', 'v37p.csv', 'v36p.csv', 'v38p.csv', 'v6p.csv', 'v40p.csv', 'v39p.csv', 'v3p.csv', 'v29p.csv', 'v30p.csv', 'v31p.csv', 'v28p.csv', 'v279.csv', 'v33p.csv', 'v25p.csv', 'v286.csv', 'v250.csv', 'v24p.csv', 'v246.csv', 'v263.csv', 'v27p.csv', 'v254.csv', 'v284.csv', 'v238.csv', 'v265.csv', 'v227.csv', 'v215.csv', 'v236.csv', 'v22p.csv', 'v21p.csv', 'v231.csv', 'v244.csv', 'v213.csv', 'v274.csv', 'v200.csv', 'v206.csv', 'v19p.csv', 'v173.csv', 'v270.csv', 'v234.csv', 'v179.csv', 'v181.csv', 'v18p.csv', 'v14p.csv', 'v196.csv', 'v209.csv', 'v183.csv', 'v12p.csv', 'v219.csv', 'v15p.csv', 'v20p.csv', 'v198.csv', 'v190.csv', 'v1p.csv', 'v32p.csv', 'v177.csv', 'v10p.csv', 'v34p.csv', 'v288.csv', 'v204.csv']\n",
        "file_names_control_dataset = ['v51p.csv', 'v59p.csv', 'v304.csv', 'v45p.csv', 'v54p.csv', 'v58p.csv', 'v53p.csv', 'v60p.csv', 'v56p.csv', 'v46p.csv', 'v308.csv', 'v42p.csv', 'v43p.csv', 'v306.csv', 'v48p.csv', 'v50p.csv', 'v52p.csv', 'v302.csv', 'v44p.csv', 'v47p.csv', 'v307.csv', 'v57p.csv', 'v303.csv', 'v127.csv', 'v134.csv', 'v121.csv', 'v299.csv', 'v151.csv', 'v116.csv', 'v125.csv', 'v133.csv', 'v300.csv', 'v147.csv', 'v298.csv', 'v113.csv', 'v118.csv', 'v117.csv', 'v120.csv', 'v111.csv', 'v107.csv', 'v114.csv', 'v108.csv', 'v115.csv', 'v305.csv', 'v140.csv', 'v149.csv', 'v309.csv', 'v123.csv', 'v138.csv', 'v112.csv', 'v41p.csv', 'v129.csv', 'v143.csv', 'v310.csv', 'v131.csv', 'v297.csv', 'v109.csv', 'v49p.csv', 'v55p.csv', 'v110.csv']\n",
        "\n",
        "# File paths for recordings and output\n",
        "pathControl = '/content/ML-Classification-model-For-EEG-Recordings/Dataset/CSV/controlcsv/'\n",
        "pathADHD = '/content/ML-Classification-model-For-EEG-Recordings/Dataset/CSV/adhdcsv/'"
      ],
      "metadata": {
        "id": "CTa5mnZ5aOA4"
      },
      "execution_count": 3,
      "outputs": []
    },
    {
      "cell_type": "markdown",
      "source": [
        "### Functions for preprocessing\n",
        "Downsampling: to redude the number of samples in the given data.\n",
        "BandPassFilter to filter signal noise.\n",
        "Preprocess_file: preprocesses a single file.\n",
        "Preprocess_group: preprocess and save all files to a corresponding group folder."
      ],
      "metadata": {
        "id": "nJkipaRS01Sl"
      }
    },
    {
      "cell_type": "code",
      "source": [
        "# Preprocessed dataset lists\n",
        "dataADHD = []\n",
        "dataControl = []\n",
        "\n",
        "# Parameters for bandpass filter\n",
        "lowcut = 1.0  # Hz\n",
        "highcut = 40.0  # Hz\n",
        "\n",
        "# Set parameters\n",
        "original_fs = 128  # Sampling frequency in Hz\n",
        "target_fs = 64  # Target sampling frequency in Hz\n",
        "nperseg = 128  # Number of samples per segment\n",
        "noverlap = 64  # Number of overlapping samples (typically half of nperseg)\n"
      ],
      "metadata": {
        "id": "uYC7QbosZJLz"
      },
      "execution_count": 4,
      "outputs": []
    },
    {
      "cell_type": "code",
      "source": [
        "# Bandpass filter: filter channel and reduce noise.\n",
        "def bandPassFilter(signal):\n",
        "    fs = 4000.0\n",
        "\n",
        "    nyq = 0.5 * fs\n",
        "    low = lowcut / nyq\n",
        "    high = highcut / nyq\n",
        "\n",
        "    order = 2\n",
        "    b, a = butter(order, [low, high], 'bandpass', analog=False)\n",
        "    y = filtfilt(b, a, signal, axis=0)\n",
        "\n",
        "    return y"
      ],
      "metadata": {
        "id": "T3eu2noOPBcu"
      },
      "execution_count": 5,
      "outputs": []
    },
    {
      "cell_type": "code",
      "source": [
        "# Compute Pearson correlation features between 2 signals\n",
        "def pearson_correlation_two_signals(signal1, signal2):\n",
        "  statistic, pvalue = pearsonr(signal1, signal2)\n",
        "\n",
        "  return statistic, pvalue"
      ],
      "metadata": {
        "id": "XbC4S2OpLePx"
      },
      "execution_count": 6,
      "outputs": []
    },
    {
      "cell_type": "code",
      "source": [
        "# Function for downsampling the signal\n",
        "def downsample_signal(signal, original_fs, target_fs):\n",
        "    num_samples = int(len(signal) * target_fs / original_fs)\n",
        "    return resample(signal, num_samples)"
      ],
      "metadata": {
        "id": "e4f8KLBuve_H"
      },
      "execution_count": 7,
      "outputs": []
    },
    {
      "cell_type": "code",
      "source": [
        "# Function for preprocessing an entire recording for a single patient\n",
        "def preprocess_file(input_file, group_category):\n",
        "  df = pd.read_csv(input_file) # Read recording\n",
        "  new_signals = []  # new signals list\n",
        "  pearson_cors = []  # pearson correlations list of every 2 signals\n",
        "\n",
        "  # Loop through all channels (columns in the recording)\n",
        "  for column in df.columns:\n",
        "    # get channel recordings\n",
        "    signal = df[column].values\n",
        "\n",
        "    # Preprocess by downsampling, then filter channel using bandpass filter\n",
        "    downsampled_signal = downsample_signal(signal, original_fs, target_fs)\n",
        "    filtered_signal = bandPassFilter(downsampled_signal)\n",
        "\n",
        "    # append processed signal to new_signals list\n",
        "    new_signals.append(filtered_signal)\n",
        "\n",
        "  # for every pair of signals, extract the pearson correlation value\n",
        "  for signal in range(len(new_signals) - 1):\n",
        "    for next_signal in range(len(new_signals)):\n",
        "      corr, _ = pearson_correlation_two_signals(new_signals[signal], new_signals[next_signal])\n",
        "      pearson_cors.append(corr)\n",
        "\n",
        "  # Add processed recording to its corresponding group\n",
        "  if group_category == 'ADHD':\n",
        "    dataADHD.append(pearson_cors)\n",
        "  elif group_category == 'CONTROL':\n",
        "    dataControl.append(pearson_cors)"
      ],
      "metadata": {
        "id": "gkY2BCpZV_0f"
      },
      "execution_count": 8,
      "outputs": []
    },
    {
      "cell_type": "code",
      "source": [
        "# Function for preprocessing all recordings for a specific group\n",
        "def preprocess_group(group_path, group_file_names, group_category):\n",
        "  i = 1\n",
        "  for filename in group_file_names:\n",
        "    file_name_and_path = group_path + filename;\n",
        "    print(filename + ' data preprocessed ' + str(i) + '/' + str(len(group_file_names)))\n",
        "    preprocess_file(file_name_and_path, group_category)\n",
        "    i += 1\n",
        "  print(\"=============================== Preprocessing group \" + group_category + \" successful =============================== \")"
      ],
      "metadata": {
        "id": "qGMaj1BDsMpu"
      },
      "execution_count": 9,
      "outputs": []
    },
    {
      "cell_type": "code",
      "source": [
        "filesADHD = ['/content/ML-Classification-model-For-EEG-Recordings/Dataset/CSV/adhdcsv/' + x for x in file_names_adhd_dataset]\n",
        "filesControl = ['/content/ML-Classification-model-For-EEG-Recordings/Dataset/CSV/controlcsv/' + x for x in file_names_control_dataset]\n",
        "\n",
        "# preprocess all groups (ADHD and Control)\n",
        "preprocess_group(pathADHD, file_names_adhd_dataset, 'ADHD')\n",
        "preprocess_group(pathControl, file_names_control_dataset, 'CONTROL')"
      ],
      "metadata": {
        "colab": {
          "base_uri": "https://localhost:8080/"
        },
        "id": "aI9CYfPIPI_j",
        "outputId": "6f7f175e-5ee8-4e90-a7a3-5a0aa2899ed8"
      },
      "execution_count": 10,
      "outputs": [
        {
          "output_type": "stream",
          "name": "stdout",
          "text": [
            "v8p.csv data preprocessed 1/61\n",
            "v35p.csv data preprocessed 2/61\n",
            "v37p.csv data preprocessed 3/61\n",
            "v36p.csv data preprocessed 4/61\n",
            "v38p.csv data preprocessed 5/61\n",
            "v6p.csv data preprocessed 6/61\n",
            "v40p.csv data preprocessed 7/61\n",
            "v39p.csv data preprocessed 8/61\n",
            "v3p.csv data preprocessed 9/61\n",
            "v29p.csv data preprocessed 10/61\n",
            "v30p.csv data preprocessed 11/61\n",
            "v31p.csv data preprocessed 12/61\n",
            "v28p.csv data preprocessed 13/61\n",
            "v279.csv data preprocessed 14/61\n",
            "v33p.csv data preprocessed 15/61\n",
            "v25p.csv data preprocessed 16/61\n",
            "v286.csv data preprocessed 17/61\n",
            "v250.csv data preprocessed 18/61\n",
            "v24p.csv data preprocessed 19/61\n",
            "v246.csv data preprocessed 20/61\n",
            "v263.csv data preprocessed 21/61\n",
            "v27p.csv data preprocessed 22/61\n",
            "v254.csv data preprocessed 23/61\n",
            "v284.csv data preprocessed 24/61\n",
            "v238.csv data preprocessed 25/61\n",
            "v265.csv data preprocessed 26/61\n",
            "v227.csv data preprocessed 27/61\n",
            "v215.csv data preprocessed 28/61\n",
            "v236.csv data preprocessed 29/61\n",
            "v22p.csv data preprocessed 30/61\n",
            "v21p.csv data preprocessed 31/61\n",
            "v231.csv data preprocessed 32/61\n",
            "v244.csv data preprocessed 33/61\n",
            "v213.csv data preprocessed 34/61\n",
            "v274.csv data preprocessed 35/61\n",
            "v200.csv data preprocessed 36/61\n",
            "v206.csv data preprocessed 37/61\n",
            "v19p.csv data preprocessed 38/61\n",
            "v173.csv data preprocessed 39/61\n",
            "v270.csv data preprocessed 40/61\n",
            "v234.csv data preprocessed 41/61\n",
            "v179.csv data preprocessed 42/61\n",
            "v181.csv data preprocessed 43/61\n",
            "v18p.csv data preprocessed 44/61\n",
            "v14p.csv data preprocessed 45/61\n",
            "v196.csv data preprocessed 46/61\n",
            "v209.csv data preprocessed 47/61\n",
            "v183.csv data preprocessed 48/61\n",
            "v12p.csv data preprocessed 49/61\n",
            "v219.csv data preprocessed 50/61\n",
            "v15p.csv data preprocessed 51/61\n",
            "v20p.csv data preprocessed 52/61\n",
            "v198.csv data preprocessed 53/61\n",
            "v190.csv data preprocessed 54/61\n",
            "v1p.csv data preprocessed 55/61\n",
            "v32p.csv data preprocessed 56/61\n",
            "v177.csv data preprocessed 57/61\n",
            "v10p.csv data preprocessed 58/61\n",
            "v34p.csv data preprocessed 59/61\n",
            "v288.csv data preprocessed 60/61\n",
            "v204.csv data preprocessed 61/61\n",
            "=============================== Preprocessing group ADHD successful =============================== \n",
            "v51p.csv data preprocessed 1/60\n",
            "v59p.csv data preprocessed 2/60\n",
            "v304.csv data preprocessed 3/60\n",
            "v45p.csv data preprocessed 4/60\n",
            "v54p.csv data preprocessed 5/60\n",
            "v58p.csv data preprocessed 6/60\n",
            "v53p.csv data preprocessed 7/60\n",
            "v60p.csv data preprocessed 8/60\n",
            "v56p.csv data preprocessed 9/60\n",
            "v46p.csv data preprocessed 10/60\n",
            "v308.csv data preprocessed 11/60\n",
            "v42p.csv data preprocessed 12/60\n",
            "v43p.csv data preprocessed 13/60\n",
            "v306.csv data preprocessed 14/60\n",
            "v48p.csv data preprocessed 15/60\n",
            "v50p.csv data preprocessed 16/60\n",
            "v52p.csv data preprocessed 17/60\n",
            "v302.csv data preprocessed 18/60\n",
            "v44p.csv data preprocessed 19/60\n",
            "v47p.csv data preprocessed 20/60\n",
            "v307.csv data preprocessed 21/60\n",
            "v57p.csv data preprocessed 22/60\n",
            "v303.csv data preprocessed 23/60\n",
            "v127.csv data preprocessed 24/60\n",
            "v134.csv data preprocessed 25/60\n",
            "v121.csv data preprocessed 26/60\n",
            "v299.csv data preprocessed 27/60\n",
            "v151.csv data preprocessed 28/60\n",
            "v116.csv data preprocessed 29/60\n",
            "v125.csv data preprocessed 30/60\n",
            "v133.csv data preprocessed 31/60\n",
            "v300.csv data preprocessed 32/60\n",
            "v147.csv data preprocessed 33/60\n",
            "v298.csv data preprocessed 34/60\n",
            "v113.csv data preprocessed 35/60\n",
            "v118.csv data preprocessed 36/60\n",
            "v117.csv data preprocessed 37/60\n",
            "v120.csv data preprocessed 38/60\n",
            "v111.csv data preprocessed 39/60\n",
            "v107.csv data preprocessed 40/60\n",
            "v114.csv data preprocessed 41/60\n",
            "v108.csv data preprocessed 42/60\n",
            "v115.csv data preprocessed 43/60\n",
            "v305.csv data preprocessed 44/60\n",
            "v140.csv data preprocessed 45/60\n",
            "v149.csv data preprocessed 46/60\n",
            "v309.csv data preprocessed 47/60\n",
            "v123.csv data preprocessed 48/60\n",
            "v138.csv data preprocessed 49/60\n",
            "v112.csv data preprocessed 50/60\n",
            "v41p.csv data preprocessed 51/60\n",
            "v129.csv data preprocessed 52/60\n",
            "v143.csv data preprocessed 53/60\n",
            "v310.csv data preprocessed 54/60\n",
            "v131.csv data preprocessed 55/60\n",
            "v297.csv data preprocessed 56/60\n",
            "v109.csv data preprocessed 57/60\n",
            "v49p.csv data preprocessed 58/60\n",
            "v55p.csv data preprocessed 59/60\n",
            "v110.csv data preprocessed 60/60\n",
            "=============================== Preprocessing group CONTROL successful =============================== \n"
          ]
        }
      ]
    },
    {
      "cell_type": "code",
      "source": [
        "len(dataADHD)"
      ],
      "metadata": {
        "colab": {
          "base_uri": "https://localhost:8080/"
        },
        "id": "ZbHhYB6QhmEu",
        "outputId": "6cb8fa93-10ef-47cf-e0f6-445d920f4670"
      },
      "execution_count": 11,
      "outputs": [
        {
          "output_type": "execute_result",
          "data": {
            "text/plain": [
              "61"
            ]
          },
          "metadata": {},
          "execution_count": 11
        }
      ]
    },
    {
      "cell_type": "code",
      "source": [
        "len(dataControl)"
      ],
      "metadata": {
        "colab": {
          "base_uri": "https://localhost:8080/"
        },
        "id": "VitoUdYYimve",
        "outputId": "15b43d9e-8ec8-474a-f846-9a3da4bcc18a"
      },
      "execution_count": 12,
      "outputs": [
        {
          "output_type": "execute_result",
          "data": {
            "text/plain": [
              "60"
            ]
          },
          "metadata": {},
          "execution_count": 12
        }
      ]
    },
    {
      "cell_type": "markdown",
      "source": [
        "# Classification model: SVM"
      ],
      "metadata": {
        "id": "kU5CJtISjw6A"
      }
    },
    {
      "cell_type": "markdown",
      "source": [
        "### Prepare data and make a train-test split"
      ],
      "metadata": {
        "id": "XNfhLdnIK8fB"
      }
    },
    {
      "cell_type": "code",
      "source": [
        "# Convert the lists into numpy arrays\n",
        "X_adhd = np.array(dataADHD)\n",
        "X_control = np.array(dataControl)\n",
        "\n",
        "# Combine ADHD and contol data\n",
        "X = np.vstack((X_adhd, X_control))\n",
        "\n",
        "# Create the label vector (1 for ADHD, 0 for control)\n",
        "y = np.array([1] * len(X_adhd) + [0] * len(X_control))\n",
        "\n",
        "# Split the data into training and testing sets\n",
        "X_train, X_test, y_train, y_test = train_test_split(X, y, test_size=0.1, random_state=42, stratify=y)"
      ],
      "metadata": {
        "id": "TjNW2FvMojAq"
      },
      "execution_count": 21,
      "outputs": []
    },
    {
      "cell_type": "markdown",
      "source": [
        "### Train SVM model"
      ],
      "metadata": {
        "id": "zpVOSVL1LK_7"
      }
    },
    {
      "cell_type": "code",
      "source": [
        "# Train an SVM model\n",
        "svm_model = SVC(kernel='linear', random_state=42)\n",
        "svm_model.fit(X_train, y_train)\n",
        "\n",
        "# Predict on the test set\n",
        "y_pred = svm_model.predict(X_test)"
      ],
      "metadata": {
        "id": "jW6pQsCS9cbX"
      },
      "execution_count": 22,
      "outputs": []
    },
    {
      "cell_type": "markdown",
      "source": [
        "### Evaluate and plot confusion matrix"
      ],
      "metadata": {
        "id": "HV6mnmPmLcmM"
      }
    },
    {
      "cell_type": "code",
      "source": [
        "# Evaluate the model\n",
        "accuracy = accuracy_score(y_test, y_pred)\n",
        "print(f'Accuracy: {accuracy:.2f}')\n",
        "print('Classification Report:')\n",
        "print(classification_report(y_test, y_pred))\n",
        "\n",
        "# Compute the confusion matrix\n",
        "cm = confusion_matrix(y_test, y_pred)\n",
        "\n",
        "# Plot the confusion matrix using matplotlib and seaborn\n",
        "plt.figure(figsize=(8, 6))\n",
        "sns.heatmap(cm, annot=True, fmt='d', cmap='Blues', xticklabels=['Control', 'ADHD'], yticklabels=['Control', 'ADHD'])\n",
        "plt.xlabel('Predicted Label')\n",
        "plt.ylabel('True Label')\n",
        "plt.title('Confusion Matrix')\n",
        "plt.show()"
      ],
      "metadata": {
        "colab": {
          "base_uri": "https://localhost:8080/",
          "height": 755
        },
        "id": "zHFZNPEfLfLj",
        "outputId": "b7a27932-e883-425c-b5a3-fc914a7cafab"
      },
      "execution_count": 23,
      "outputs": [
        {
          "output_type": "stream",
          "name": "stdout",
          "text": [
            "Accuracy: 0.85\n",
            "Classification Report:\n",
            "              precision    recall  f1-score   support\n",
            "\n",
            "           0       0.75      1.00      0.86         6\n",
            "           1       1.00      0.71      0.83         7\n",
            "\n",
            "    accuracy                           0.85        13\n",
            "   macro avg       0.88      0.86      0.85        13\n",
            "weighted avg       0.88      0.85      0.84        13\n",
            "\n"
          ]
        },
        {
          "output_type": "display_data",
          "data": {
            "text/plain": [
              "<Figure size 800x600 with 2 Axes>"
            ],
            "image/png": "[encoded data removed]"
          },
          "metadata": {}
        }
      ]
    },
    {
      "cell_type": "markdown",
      "source": [
        "### Make a prediction"
      ],
      "metadata": {
        "id": "Dh5xXvdQcXfE"
      }
    },
    {
      "cell_type": "code",
      "source": [
        "data = np.array(dataControl[8]).reshape(1, -1)\n",
        "\n",
        "pred = svm_model.predict(data)\n",
        "result = \"ADHD\" if pred[0] == 0 else \"Control\"\n",
        "result"
      ],
      "metadata": {
        "colab": {
          "base_uri": "https://localhost:8080/",
          "height": 35
        },
        "id": "4gm_pEGHxfcy",
        "outputId": "376b446a-afb5-4cb9-96c6-a36ebd3b2740"
      },
      "execution_count": 25,
      "outputs": [
        {
          "output_type": "execute_result",
          "data": {
            "text/plain": [
              "'ADHD'"
            ],
            "application/vnd.google.colaboratory.intrinsic+json": {
              "type": "string"
            }
          },
          "metadata": {},
          "execution_count": 25
        }
      ]
    }
  ]
}