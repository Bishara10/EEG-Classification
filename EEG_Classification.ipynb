{
  "nbformat": 4,
  "nbformat_minor": 0,
  "metadata": {
    "colab": {
      "provenance": [],
      "collapsed_sections": [
        "AtzWWpmDaFTs",
        "hFbsW0JJubEW",
        "y-PG_ZjKILTM"
      ],
      "include_colab_link": true
    },
    "kernelspec": {
      "name": "python3",
      "display_name": "Python 3"
    },
    "language_info": {
      "name": "python"
    }
  },
  "cells": [
    {
      "cell_type": "markdown",
      "metadata": {
        "id": "view-in-github",
        "colab_type": "text"
      },
      "source": [
        "<a href=\"https://colab.research.google.com/github/Bishara10/EEG-Classification/blob/main/EEG_Classification.ipynb\" target=\"_parent\"><img src=\"https://colab.research.google.com/assets/colab-badge.svg\" alt=\"Open In Colab\"/></a>"
      ]
    },
    {
      "cell_type": "markdown",
      "source": [
        "# Import Libraries and Prerequisites\n"
      ],
      "metadata": {
        "id": "AtzWWpmDaFTs"
      }
    },
    {
      "cell_type": "code",
      "source": [
        "!git clone https://github.com/BPy5/ML-Classification-model-For-EEG-Recordings.git"
      ],
      "metadata": {
        "colab": {
          "base_uri": "https://localhost:8080/"
        },
        "id": "Bg0qfQlM76lo",
        "outputId": "eb930a1b-fc4c-4cc2-8387-d35cc5acbbc1"
      },
      "execution_count": null,
      "outputs": [
        {
          "output_type": "stream",
          "name": "stdout",
          "text": [
            "Cloning into 'ML-Classification-model-For-EEG-Recordings'...\n",
            "remote: Enumerating objects: 313, done.\u001b[K\n",
            "remote: Counting objects: 100% (57/57), done.\u001b[K\n",
            "remote: Compressing objects: 100% (56/56), done.\u001b[K\n",
            "remote: Total 313 (delta 27), reused 2 (delta 0), pack-reused 256\u001b[K\n",
            "Receiving objects: 100% (313/313), 72.82 MiB | 18.36 MiB/s, done.\n",
            "Resolving deltas: 100% (27/27), done.\n",
            "Updating files: 100% (247/247), done.\n"
          ]
        }
      ]
    },
    {
      "cell_type": "code",
      "execution_count": null,
      "metadata": {
        "id": "alzsODU3ZAxk"
      },
      "outputs": [],
      "source": [
        "import os\n",
        "import numpy as np\n",
        "import pandas as pd\n",
        "import scipy.signal\n",
        "import matplotlib.pyplot as plt\n",
        "from sklearn.svm import SVC\n",
        "from sklearn.preprocessing import StandardScaler\n",
        "from sklearn.model_selection import train_test_split, cross_validate\n",
        "from scipy.signal import resample, spectrogram, butter, filtfilt\n",
        "from scipy.stats import pearsonr\n",
        "\n",
        "%matplotlib notebook\n",
        "%matplotlib inline\n"
      ]
    },
    {
      "cell_type": "markdown",
      "source": [
        "# Preprocess dataset"
      ],
      "metadata": {
        "id": "MViuh-4rcuPx"
      }
    },
    {
      "cell_type": "markdown",
      "source": [
        "### Load Data"
      ],
      "metadata": {
        "id": "Gv7CDSOatgAO"
      }
    },
    {
      "cell_type": "code",
      "source": [
        "file_names_adhd_dataset = ['v8p.csv', 'v35p.csv', 'v37p.csv', 'v36p.csv', 'v38p.csv', 'v6p.csv', 'v40p.csv', 'v39p.csv', 'v3p.csv', 'v29p.csv', 'v30p.csv', 'v31p.csv', 'v28p.csv', 'v279.csv', 'v33p.csv', 'v25p.csv', 'v286.csv', 'v250.csv', 'v24p.csv', 'v246.csv', 'v263.csv', 'v27p.csv', 'v254.csv', 'v284.csv', 'v238.csv', 'v265.csv', 'v227.csv', 'v215.csv', 'v236.csv', 'v22p.csv', 'v21p.csv', 'v231.csv', 'v244.csv', 'v213.csv', 'v274.csv', 'v200.csv', 'v206.csv', 'v19p.csv', 'v173.csv', 'v270.csv', 'v234.csv', 'v179.csv', 'v181.csv', 'v18p.csv', 'v14p.csv', 'v196.csv', 'v209.csv', 'v183.csv', 'v12p.csv', 'v219.csv', 'v15p.csv', 'v20p.csv', 'v198.csv', 'v190.csv', 'v1p.csv', 'v32p.csv', 'v177.csv', 'v10p.csv', 'v34p.csv', 'v288.csv', 'v204.csv']\n",
        "# print(len(file_names_adhd_dataset))\n",
        "file_names_control_dataset = ['v51p.csv', 'v59p.csv', 'v304.csv', 'v45p.csv', 'v54p.csv', 'v58p.csv', 'v53p.csv', 'v60p.csv', 'v56p.csv', 'v46p.csv', 'v308.csv', 'v42p.csv', 'v43p.csv', 'v306.csv', 'v48p.csv', 'v50p.csv', 'v52p.csv', 'v302.csv', 'v44p.csv', 'v47p.csv', 'v307.csv', 'v57p.csv', 'v303.csv', 'v127.csv', 'v134.csv', 'v121.csv', 'v299.csv', 'v151.csv', 'v116.csv', 'v125.csv', 'v133.csv', 'v300.csv', 'v147.csv', 'v298.csv', 'v113.csv', 'v118.csv', 'v117.csv', 'v120.csv', 'v111.csv', 'v107.csv', 'v114.csv', 'v108.csv', 'v115.csv', 'v305.csv', 'v140.csv', 'v149.csv', 'v309.csv', 'v123.csv', 'v138.csv', 'v112.csv', 'v41p.csv', 'v129.csv', 'v143.csv', 'v310.csv', 'v131.csv', 'v297.csv', 'v109.csv', 'v49p.csv', 'v55p.csv', 'v110.csv']\n",
        "# print(len(file_names_control_dataset))\n",
        "\n",
        "pathControl = '/content/ML-Classification-model-For-EEG-Recordings/Dataset/CSV/controlcsv/'\n",
        "pathADHD = '/content/ML-Classification-model-For-EEG-Recordings/Dataset/CSV/adhdcsv/'\n",
        "outputPath = '/content/preprocessed_dataset/'"
      ],
      "metadata": {
        "id": "CTa5mnZ5aOA4"
      },
      "execution_count": null,
      "outputs": []
    },
    {
      "cell_type": "markdown",
      "source": [
        "### Functions for preprocessing\n",
        "Downsampling: to redude the number of samples in the given data.\n",
        "BandPassFilter to filter signal noise.\n",
        "Preprocess_file: preprocesses a single file.\n",
        "Preprocess_group: preprocess and save all files to a corresponding group folder."
      ],
      "metadata": {
        "id": "nJkipaRS01Sl"
      }
    },
    {
      "cell_type": "code",
      "source": [
        "# Preprocessed dataset\n",
        "dataADHD = []\n",
        "dataControl = []\n",
        "\n",
        "# parameters for bandpass filter\n",
        "lowcut = 10.0\n",
        "highcut = 40.0\n",
        "\n",
        "# Set parameters for Spectrogram\n",
        "original_fs = 128  # Sampling frequency in Hz\n",
        "target_fs = 64  # Target sampling frequency in Hz\n",
        "nperseg = 128  # Number of samples per segment\n",
        "noverlap = 64  # Number of overlapping samples (typically half of nperseg)"
      ],
      "metadata": {
        "id": "uYC7QbosZJLz"
      },
      "execution_count": null,
      "outputs": []
    },
    {
      "cell_type": "code",
      "source": [
        "# filter channel and reduce noise.\n",
        "def bandPassFilter(signal):\n",
        "    fs = 4000.0\n",
        "\n",
        "    nyq = 0.5 * fs\n",
        "    low = lowcut / nyq\n",
        "    high = highcut / nyq\n",
        "\n",
        "    order = 2\n",
        "    b, a = scipy.signal.butter(order, [low, high], 'bandpass', analog=False)\n",
        "    # print(f\"Applying bandpass filter: lowcut={lowcut} Hz, highcut={highcut} Hz, fs={fs} Hz\")\n",
        "    # print(f\"Normalized frequencies: low={low}, high={high}\")\n",
        "    y = scipy.signal.filtfilt(b, a, signal, axis=0)\n",
        "\n",
        "    return y"
      ],
      "metadata": {
        "id": "T3eu2noOPBcu"
      },
      "execution_count": null,
      "outputs": []
    },
    {
      "cell_type": "code",
      "source": [
        "def pearson_correlation_two_signals(signal1, signal2):\n",
        "  statistic, pvalue = pearsonr(signal1, signal2)\n",
        "\n",
        "  return statistic, pvalue"
      ],
      "metadata": {
        "id": "jS34d7oE-I68"
      },
      "execution_count": null,
      "outputs": []
    },
    {
      "cell_type": "code",
      "source": [
        "# # Function to pad spectrograms to a consistent length\n",
        "# def pad_spectrogram(sxx, max_length):\n",
        "#     if sxx.shape[1] < max_length:\n",
        "#         padding = np.zeros((sxx.shape[0], max_length - sxx.shape[1]))\n",
        "#         sxx = np.hstack((sxx, padding))\n",
        "#     else:\n",
        "#         sxx = sxx[:, :max_length]\n",
        "#     return sxx"
      ],
      "metadata": {
        "id": "rrHqhDPPEIsf"
      },
      "execution_count": null,
      "outputs": []
    },
    {
      "cell_type": "code",
      "source": [
        "# Function to downsample the signal\n",
        "def downsample_signal(signal, original_fs, target_fs):\n",
        "    num_samples = int(len(signal) * target_fs / original_fs)\n",
        "    # print(f\"Original signal length: {len(signal)}, Downsampled signal length: {num_samples}\")\n",
        "    return resample(signal, num_samples)"
      ],
      "metadata": {
        "id": "e4f8KLBuve_H"
      },
      "execution_count": null,
      "outputs": []
    },
    {
      "cell_type": "code",
      "source": [
        "# Preprocessing for an entire recording for a patient\n",
        "def preprocess_file(input_file, group_category):\n",
        "  df = pd.read_csv(input_file)\n",
        "  new_signals = []\n",
        "  pearson_cors = []\n",
        "\n",
        "  for column in df.columns:\n",
        "    signal = df[column].values\n",
        "    downsampled_signal = downsample_signal(signal, original_fs, target_fs)\n",
        "    filtered_signal = bandPassFilter(downsampled_signal)\n",
        "    new_signals.append(filtered_signal)\n",
        "\n",
        "  for signal in range(len(new_signals) - 1):\n",
        "    for next_signal in range(len(new_signals)):\n",
        "      corr, _ = pearson_correlation_two_signals(new_signals[signal], new_signals[next_signal])\n",
        "      pearson_cors.append(corr)\n",
        "\n",
        "  if group_category == 'ADHD':\n",
        "    dataADHD.append(pearson_cors)\n",
        "  elif group_category == 'CONTROL':\n",
        "    dataControl.append(pearson_cors)\n",
        "\n",
        "  # df.to_csv(output_file, index=False)"
      ],
      "metadata": {
        "id": "gkY2BCpZV_0f"
      },
      "execution_count": null,
      "outputs": []
    },
    {
      "cell_type": "code",
      "source": [
        "# Preprocess all recordings for a specific group\n",
        "def preprocess_group(group_path, group_file_names, output_path, group_category):\n",
        "  i = 1\n",
        "  for filename in group_file_names:\n",
        "    file_name_and_path = group_path + filename;\n",
        "    print(filename + ' data preprocessed ' + str(i) + '/' + str(len(group_file_names)))\n",
        "    preprocess_file(file_name_and_path, group_category)\n",
        "    i += 1\n",
        "  print(\"=============================== Preprocessing group \" + group_category + \" successful =============================== \")"
      ],
      "metadata": {
        "id": "qGMaj1BDsMpu"
      },
      "execution_count": null,
      "outputs": []
    },
    {
      "cell_type": "code",
      "source": [
        "# # Calculate the maximum time bins across all files\n",
        "# def calculate_max_time_bins(files):\n",
        "#     max_time_bins = 0\n",
        "#     for file in files:\n",
        "#         df = pd.read_csv(file)\n",
        "#         for column in df.columns:\n",
        "#             signal = df[column].values\n",
        "#             downsampled_signal = downsample_signal(signal, original_fs, target_fs)\n",
        "#             f, t, Sxx = spectrogram(downsampled_signal, fs=target_fs, nperseg=nperseg, noverlap=noverlap)\n",
        "#             max_time_bins = max(max_time_bins, Sxx.shape[1])\n",
        "#     return max_time_bins\n"
      ],
      "metadata": {
        "id": "bDR9fNED_7q5"
      },
      "execution_count": null,
      "outputs": []
    },
    {
      "cell_type": "code",
      "source": [
        "filesADHD = ['/content/ML-Classification-model-For-EEG-Recordings/Dataset/CSV/adhdcsv/' + x for x in file_names_adhd_dataset]\n",
        "filesControl = ['/content/ML-Classification-model-For-EEG-Recordings/Dataset/CSV/controlcsv/' + x for x in file_names_control_dataset]\n",
        "\n",
        "# Find max time bin\n",
        "# x = calculate_max_time_bins(filesADHD)\n",
        "# y = calculate_max_time_bins(filesControl)\n",
        "# maxTimeBins = max(x, y)\n",
        "\n",
        "\n",
        "# preprocess groups\n",
        "preprocess_group(pathADHD, file_names_adhd_dataset, outputPath + '/ADHD/', 'ADHD')\n",
        "preprocess_group(pathControl, file_names_control_dataset, outputPath + '/Control/', 'CONTROL')\n"
      ],
      "metadata": {
        "colab": {
          "base_uri": "https://localhost:8080/"
        },
        "id": "aI9CYfPIPI_j",
        "outputId": "e4b91d40-1bf8-4344-c4d4-f8ece7eb75b2"
      },
      "execution_count": null,
      "outputs": [
        {
          "output_type": "stream",
          "name": "stdout",
          "text": [
            "v8p.csv data preprocessed. 1/61\n",
            "v35p.csv data preprocessed. 2/61\n",
            "v37p.csv data preprocessed. 3/61\n",
            "v36p.csv data preprocessed. 4/61\n",
            "v38p.csv data preprocessed. 5/61\n",
            "v6p.csv data preprocessed. 6/61\n",
            "v40p.csv data preprocessed. 7/61\n",
            "v39p.csv data preprocessed. 8/61\n",
            "v3p.csv data preprocessed. 9/61\n",
            "v29p.csv data preprocessed. 10/61\n",
            "v30p.csv data preprocessed. 11/61\n",
            "v31p.csv data preprocessed. 12/61\n",
            "v28p.csv data preprocessed. 13/61\n",
            "v279.csv data preprocessed. 14/61\n",
            "v33p.csv data preprocessed. 15/61\n",
            "v25p.csv data preprocessed. 16/61\n",
            "v286.csv data preprocessed. 17/61\n",
            "v250.csv data preprocessed. 18/61\n",
            "v24p.csv data preprocessed. 19/61\n",
            "v246.csv data preprocessed. 20/61\n",
            "v263.csv data preprocessed. 21/61\n",
            "v27p.csv data preprocessed. 22/61\n",
            "v254.csv data preprocessed. 23/61\n",
            "v284.csv data preprocessed. 24/61\n",
            "v238.csv data preprocessed. 25/61\n",
            "v265.csv data preprocessed. 26/61\n",
            "v227.csv data preprocessed. 27/61\n",
            "v215.csv data preprocessed. 28/61\n",
            "v236.csv data preprocessed. 29/61\n",
            "v22p.csv data preprocessed. 30/61\n",
            "v21p.csv data preprocessed. 31/61\n",
            "v231.csv data preprocessed. 32/61\n",
            "v244.csv data preprocessed. 33/61\n",
            "v213.csv data preprocessed. 34/61\n",
            "v274.csv data preprocessed. 35/61\n",
            "v200.csv data preprocessed. 36/61\n",
            "v206.csv data preprocessed. 37/61\n",
            "v19p.csv data preprocessed. 38/61\n",
            "v173.csv data preprocessed. 39/61\n",
            "v270.csv data preprocessed. 40/61\n",
            "v234.csv data preprocessed. 41/61\n",
            "v179.csv data preprocessed. 42/61\n",
            "v181.csv data preprocessed. 43/61\n",
            "v18p.csv data preprocessed. 44/61\n",
            "v14p.csv data preprocessed. 45/61\n",
            "v196.csv data preprocessed. 46/61\n",
            "v209.csv data preprocessed. 47/61\n",
            "v183.csv data preprocessed. 48/61\n",
            "v12p.csv data preprocessed. 49/61\n",
            "v219.csv data preprocessed. 50/61\n",
            "v15p.csv data preprocessed. 51/61\n",
            "v20p.csv data preprocessed. 52/61\n",
            "v198.csv data preprocessed. 53/61\n",
            "v190.csv data preprocessed. 54/61\n",
            "v1p.csv data preprocessed. 55/61\n",
            "v32p.csv data preprocessed. 56/61\n",
            "v177.csv data preprocessed. 57/61\n",
            "v10p.csv data preprocessed. 58/61\n",
            "v34p.csv data preprocessed. 59/61\n",
            "v288.csv data preprocessed. 60/61\n",
            "v204.csv data preprocessed. 61/61\n",
            "=============================== Preprocessing groupADHD successful =============================== \n",
            "v51p.csv data preprocessed. 1/60\n",
            "v59p.csv data preprocessed. 2/60\n",
            "v304.csv data preprocessed. 3/60\n",
            "v45p.csv data preprocessed. 4/60\n",
            "v54p.csv data preprocessed. 5/60\n",
            "v58p.csv data preprocessed. 6/60\n",
            "v53p.csv data preprocessed. 7/60\n",
            "v60p.csv data preprocessed. 8/60\n",
            "v56p.csv data preprocessed. 9/60\n",
            "v46p.csv data preprocessed. 10/60\n",
            "v308.csv data preprocessed. 11/60\n",
            "v42p.csv data preprocessed. 12/60\n",
            "v43p.csv data preprocessed. 13/60\n",
            "v306.csv data preprocessed. 14/60\n",
            "v48p.csv data preprocessed. 15/60\n",
            "v50p.csv data preprocessed. 16/60\n",
            "v52p.csv data preprocessed. 17/60\n",
            "v302.csv data preprocessed. 18/60\n",
            "v44p.csv data preprocessed. 19/60\n",
            "v47p.csv data preprocessed. 20/60\n",
            "v307.csv data preprocessed. 21/60\n",
            "v57p.csv data preprocessed. 22/60\n",
            "v303.csv data preprocessed. 23/60\n",
            "v127.csv data preprocessed. 24/60\n",
            "v134.csv data preprocessed. 25/60\n",
            "v121.csv data preprocessed. 26/60\n",
            "v299.csv data preprocessed. 27/60\n",
            "v151.csv data preprocessed. 28/60\n",
            "v116.csv data preprocessed. 29/60\n",
            "v125.csv data preprocessed. 30/60\n",
            "v133.csv data preprocessed. 31/60\n",
            "v300.csv data preprocessed. 32/60\n",
            "v147.csv data preprocessed. 33/60\n",
            "v298.csv data preprocessed. 34/60\n",
            "v113.csv data preprocessed. 35/60\n",
            "v118.csv data preprocessed. 36/60\n",
            "v117.csv data preprocessed. 37/60\n",
            "v120.csv data preprocessed. 38/60\n",
            "v111.csv data preprocessed. 39/60\n",
            "v107.csv data preprocessed. 40/60\n",
            "v114.csv data preprocessed. 41/60\n",
            "v108.csv data preprocessed. 42/60\n",
            "v115.csv data preprocessed. 43/60\n",
            "v305.csv data preprocessed. 44/60\n",
            "v140.csv data preprocessed. 45/60\n",
            "v149.csv data preprocessed. 46/60\n",
            "v309.csv data preprocessed. 47/60\n",
            "v123.csv data preprocessed. 48/60\n",
            "v138.csv data preprocessed. 49/60\n",
            "v112.csv data preprocessed. 50/60\n",
            "v41p.csv data preprocessed. 51/60\n",
            "v129.csv data preprocessed. 52/60\n",
            "v143.csv data preprocessed. 53/60\n",
            "v310.csv data preprocessed. 54/60\n",
            "v131.csv data preprocessed. 55/60\n",
            "v297.csv data preprocessed. 56/60\n",
            "v109.csv data preprocessed. 57/60\n",
            "v49p.csv data preprocessed. 58/60\n",
            "v55p.csv data preprocessed. 59/60\n",
            "v110.csv data preprocessed. 60/60\n",
            "=============================== Preprocessing groupCONTROL successful =============================== \n"
          ]
        }
      ]
    },
    {
      "cell_type": "code",
      "source": [
        "len(dataADHD)"
      ],
      "metadata": {
        "colab": {
          "base_uri": "https://localhost:8080/"
        },
        "id": "ZbHhYB6QhmEu",
        "outputId": "26a5a836-f5d7-40c9-915c-dd28aec4231a"
      },
      "execution_count": null,
      "outputs": [
        {
          "output_type": "execute_result",
          "data": {
            "text/plain": [
              "61"
            ]
          },
          "metadata": {},
          "execution_count": 102
        }
      ]
    },
    {
      "cell_type": "code",
      "source": [
        "len(dataControl)"
      ],
      "metadata": {
        "colab": {
          "base_uri": "https://localhost:8080/"
        },
        "id": "VitoUdYYimve",
        "outputId": "707ddac3-62bb-4525-842f-d576c4029f08"
      },
      "execution_count": null,
      "outputs": [
        {
          "output_type": "execute_result",
          "data": {
            "text/plain": [
              "60"
            ]
          },
          "metadata": {},
          "execution_count": 103
        }
      ]
    },
    {
      "cell_type": "markdown",
      "source": [
        "# ML Model: SVM"
      ],
      "metadata": {
        "id": "kU5CJtISjw6A"
      }
    },
    {
      "cell_type": "markdown",
      "source": [
        "### Define classifier"
      ],
      "metadata": {
        "id": "_k76aWP6nOFO"
      }
    },
    {
      "cell_type": "markdown",
      "source": [
        "### Prepare feature matrix and labels"
      ],
      "metadata": {
        "id": "mm0Gnb33lJIB"
      }
    },
    {
      "cell_type": "code",
      "source": [
        "X = np.array(dataADHD + dataControl)\n",
        "y = np.array([1] * len(dataADHD) + [0] * len(dataControl))"
      ],
      "metadata": {
        "id": "lWliDlsFjzuC"
      },
      "execution_count": null,
      "outputs": []
    },
    {
      "cell_type": "code",
      "source": [
        "X.shape"
      ],
      "metadata": {
        "id": "NeqQFub1o2oa",
        "outputId": "3f516894-e8e6-450f-99e9-aabbdaf511bb",
        "colab": {
          "base_uri": "https://localhost:8080/"
        }
      },
      "execution_count": null,
      "outputs": [
        {
          "output_type": "execute_result",
          "data": {
            "text/plain": [
              "(121, 342)"
            ]
          },
          "metadata": {},
          "execution_count": 106
        }
      ]
    },
    {
      "cell_type": "markdown",
      "source": [
        "# Train/Test split"
      ],
      "metadata": {
        "id": "oc0Kq1Niy3zX"
      }
    },
    {
      "cell_type": "code",
      "source": [
        "X_train, X_test, y_train, y_test = train_test_split(X, y, test_size=0.2, random_state=42)"
      ],
      "metadata": {
        "id": "XM8oN9ciy8WG"
      },
      "execution_count": null,
      "outputs": []
    },
    {
      "cell_type": "markdown",
      "source": [
        "# Train model\n"
      ],
      "metadata": {
        "id": "-v-0FVMplxW_"
      }
    },
    {
      "cell_type": "code",
      "source": [
        "svm = SVC(kernel='linear')\n",
        "\n",
        "\n",
        "svm.fit(X_scaled, y_train)"
      ],
      "metadata": {
        "id": "V7mWn_b_m5h9",
        "outputId": "b7d9c28f-e2d3-40ad-e9f6-d42ab3da7b24",
        "colab": {
          "base_uri": "https://localhost:8080/",
          "height": 321
        }
      },
      "execution_count": null,
      "outputs": [
        {
          "output_type": "error",
          "ename": "ValueError",
          "evalue": "Found input variables with inconsistent numbers of samples: [121, 96]",
          "traceback": [
            "\u001b[0;31m---------------------------------------------------------------------------\u001b[0m",
            "\u001b[0;31mValueError\u001b[0m                                Traceback (most recent call last)",
            "\u001b[0;32m<ipython-input-138-673abe8677b9>\u001b[0m in \u001b[0;36m<cell line: 7>\u001b[0;34m()\u001b[0m\n\u001b[1;32m      5\u001b[0m \u001b[0mX_scaled\u001b[0m \u001b[0;34m=\u001b[0m \u001b[0mscaler\u001b[0m\u001b[0;34m.\u001b[0m\u001b[0mfit_transform\u001b[0m\u001b[0;34m(\u001b[0m\u001b[0mX\u001b[0m\u001b[0;34m)\u001b[0m\u001b[0;34m\u001b[0m\u001b[0;34m\u001b[0m\u001b[0m\n\u001b[1;32m      6\u001b[0m \u001b[0;34m\u001b[0m\u001b[0m\n\u001b[0;32m----> 7\u001b[0;31m \u001b[0msvm\u001b[0m\u001b[0;34m.\u001b[0m\u001b[0mfit\u001b[0m\u001b[0;34m(\u001b[0m\u001b[0mX_scaled\u001b[0m\u001b[0;34m,\u001b[0m \u001b[0my_train\u001b[0m\u001b[0;34m)\u001b[0m\u001b[0;34m\u001b[0m\u001b[0;34m\u001b[0m\u001b[0m\n\u001b[0m",
            "\u001b[0;32m/usr/local/lib/python3.10/dist-packages/sklearn/base.py\u001b[0m in \u001b[0;36mwrapper\u001b[0;34m(estimator, *args, **kwargs)\u001b[0m\n\u001b[1;32m   1150\u001b[0m                 )\n\u001b[1;32m   1151\u001b[0m             ):\n\u001b[0;32m-> 1152\u001b[0;31m                 \u001b[0;32mreturn\u001b[0m \u001b[0mfit_method\u001b[0m\u001b[0;34m(\u001b[0m\u001b[0mestimator\u001b[0m\u001b[0;34m,\u001b[0m \u001b[0;34m*\u001b[0m\u001b[0margs\u001b[0m\u001b[0;34m,\u001b[0m \u001b[0;34m**\u001b[0m\u001b[0mkwargs\u001b[0m\u001b[0;34m)\u001b[0m\u001b[0;34m\u001b[0m\u001b[0;34m\u001b[0m\u001b[0m\n\u001b[0m\u001b[1;32m   1153\u001b[0m \u001b[0;34m\u001b[0m\u001b[0m\n\u001b[1;32m   1154\u001b[0m         \u001b[0;32mreturn\u001b[0m \u001b[0mwrapper\u001b[0m\u001b[0;34m\u001b[0m\u001b[0;34m\u001b[0m\u001b[0m\n",
            "\u001b[0;32m/usr/local/lib/python3.10/dist-packages/sklearn/svm/_base.py\u001b[0m in \u001b[0;36mfit\u001b[0;34m(self, X, y, sample_weight)\u001b[0m\n\u001b[1;32m    188\u001b[0m             \u001b[0mcheck_consistent_length\u001b[0m\u001b[0;34m(\u001b[0m\u001b[0mX\u001b[0m\u001b[0;34m,\u001b[0m \u001b[0my\u001b[0m\u001b[0;34m)\u001b[0m\u001b[0;34m\u001b[0m\u001b[0;34m\u001b[0m\u001b[0m\n\u001b[1;32m    189\u001b[0m         \u001b[0;32melse\u001b[0m\u001b[0;34m:\u001b[0m\u001b[0;34m\u001b[0m\u001b[0;34m\u001b[0m\u001b[0m\n\u001b[0;32m--> 190\u001b[0;31m             X, y = self._validate_data(\n\u001b[0m\u001b[1;32m    191\u001b[0m                 \u001b[0mX\u001b[0m\u001b[0;34m,\u001b[0m\u001b[0;34m\u001b[0m\u001b[0;34m\u001b[0m\u001b[0m\n\u001b[1;32m    192\u001b[0m                 \u001b[0my\u001b[0m\u001b[0;34m,\u001b[0m\u001b[0;34m\u001b[0m\u001b[0;34m\u001b[0m\u001b[0m\n",
            "\u001b[0;32m/usr/local/lib/python3.10/dist-packages/sklearn/base.py\u001b[0m in \u001b[0;36m_validate_data\u001b[0;34m(self, X, y, reset, validate_separately, cast_to_ndarray, **check_params)\u001b[0m\n\u001b[1;32m    620\u001b[0m                 \u001b[0my\u001b[0m \u001b[0;34m=\u001b[0m \u001b[0mcheck_array\u001b[0m\u001b[0;34m(\u001b[0m\u001b[0my\u001b[0m\u001b[0;34m,\u001b[0m \u001b[0minput_name\u001b[0m\u001b[0;34m=\u001b[0m\u001b[0;34m\"y\"\u001b[0m\u001b[0;34m,\u001b[0m \u001b[0;34m**\u001b[0m\u001b[0mcheck_y_params\u001b[0m\u001b[0;34m)\u001b[0m\u001b[0;34m\u001b[0m\u001b[0;34m\u001b[0m\u001b[0m\n\u001b[1;32m    621\u001b[0m             \u001b[0;32melse\u001b[0m\u001b[0;34m:\u001b[0m\u001b[0;34m\u001b[0m\u001b[0;34m\u001b[0m\u001b[0m\n\u001b[0;32m--> 622\u001b[0;31m                 \u001b[0mX\u001b[0m\u001b[0;34m,\u001b[0m \u001b[0my\u001b[0m \u001b[0;34m=\u001b[0m \u001b[0mcheck_X_y\u001b[0m\u001b[0;34m(\u001b[0m\u001b[0mX\u001b[0m\u001b[0;34m,\u001b[0m \u001b[0my\u001b[0m\u001b[0;34m,\u001b[0m \u001b[0;34m**\u001b[0m\u001b[0mcheck_params\u001b[0m\u001b[0;34m)\u001b[0m\u001b[0;34m\u001b[0m\u001b[0;34m\u001b[0m\u001b[0m\n\u001b[0m\u001b[1;32m    623\u001b[0m             \u001b[0mout\u001b[0m \u001b[0;34m=\u001b[0m \u001b[0mX\u001b[0m\u001b[0;34m,\u001b[0m \u001b[0my\u001b[0m\u001b[0;34m\u001b[0m\u001b[0;34m\u001b[0m\u001b[0m\n\u001b[1;32m    624\u001b[0m \u001b[0;34m\u001b[0m\u001b[0m\n",
            "\u001b[0;32m/usr/local/lib/python3.10/dist-packages/sklearn/utils/validation.py\u001b[0m in \u001b[0;36mcheck_X_y\u001b[0;34m(X, y, accept_sparse, accept_large_sparse, dtype, order, copy, force_all_finite, ensure_2d, allow_nd, multi_output, ensure_min_samples, ensure_min_features, y_numeric, estimator)\u001b[0m\n\u001b[1;32m   1162\u001b[0m     \u001b[0my\u001b[0m \u001b[0;34m=\u001b[0m \u001b[0m_check_y\u001b[0m\u001b[0;34m(\u001b[0m\u001b[0my\u001b[0m\u001b[0;34m,\u001b[0m \u001b[0mmulti_output\u001b[0m\u001b[0;34m=\u001b[0m\u001b[0mmulti_output\u001b[0m\u001b[0;34m,\u001b[0m \u001b[0my_numeric\u001b[0m\u001b[0;34m=\u001b[0m\u001b[0my_numeric\u001b[0m\u001b[0;34m,\u001b[0m \u001b[0mestimator\u001b[0m\u001b[0;34m=\u001b[0m\u001b[0mestimator\u001b[0m\u001b[0;34m)\u001b[0m\u001b[0;34m\u001b[0m\u001b[0;34m\u001b[0m\u001b[0m\n\u001b[1;32m   1163\u001b[0m \u001b[0;34m\u001b[0m\u001b[0m\n\u001b[0;32m-> 1164\u001b[0;31m     \u001b[0mcheck_consistent_length\u001b[0m\u001b[0;34m(\u001b[0m\u001b[0mX\u001b[0m\u001b[0;34m,\u001b[0m \u001b[0my\u001b[0m\u001b[0;34m)\u001b[0m\u001b[0;34m\u001b[0m\u001b[0;34m\u001b[0m\u001b[0m\n\u001b[0m\u001b[1;32m   1165\u001b[0m \u001b[0;34m\u001b[0m\u001b[0m\n\u001b[1;32m   1166\u001b[0m     \u001b[0;32mreturn\u001b[0m \u001b[0mX\u001b[0m\u001b[0;34m,\u001b[0m \u001b[0my\u001b[0m\u001b[0;34m\u001b[0m\u001b[0;34m\u001b[0m\u001b[0m\n",
            "\u001b[0;32m/usr/local/lib/python3.10/dist-packages/sklearn/utils/validation.py\u001b[0m in \u001b[0;36mcheck_consistent_length\u001b[0;34m(*arrays)\u001b[0m\n\u001b[1;32m    405\u001b[0m     \u001b[0muniques\u001b[0m \u001b[0;34m=\u001b[0m \u001b[0mnp\u001b[0m\u001b[0;34m.\u001b[0m\u001b[0munique\u001b[0m\u001b[0;34m(\u001b[0m\u001b[0mlengths\u001b[0m\u001b[0;34m)\u001b[0m\u001b[0;34m\u001b[0m\u001b[0;34m\u001b[0m\u001b[0m\n\u001b[1;32m    406\u001b[0m     \u001b[0;32mif\u001b[0m \u001b[0mlen\u001b[0m\u001b[0;34m(\u001b[0m\u001b[0muniques\u001b[0m\u001b[0;34m)\u001b[0m \u001b[0;34m>\u001b[0m \u001b[0;36m1\u001b[0m\u001b[0;34m:\u001b[0m\u001b[0;34m\u001b[0m\u001b[0;34m\u001b[0m\u001b[0m\n\u001b[0;32m--> 407\u001b[0;31m         raise ValueError(\n\u001b[0m\u001b[1;32m    408\u001b[0m             \u001b[0;34m\"Found input variables with inconsistent numbers of samples: %r\"\u001b[0m\u001b[0;34m\u001b[0m\u001b[0;34m\u001b[0m\u001b[0m\n\u001b[1;32m    409\u001b[0m             \u001b[0;34m%\u001b[0m \u001b[0;34m[\u001b[0m\u001b[0mint\u001b[0m\u001b[0;34m(\u001b[0m\u001b[0ml\u001b[0m\u001b[0;34m)\u001b[0m \u001b[0;32mfor\u001b[0m \u001b[0ml\u001b[0m \u001b[0;32min\u001b[0m \u001b[0mlengths\u001b[0m\u001b[0;34m]\u001b[0m\u001b[0;34m\u001b[0m\u001b[0;34m\u001b[0m\u001b[0m\n",
            "\u001b[0;31mValueError\u001b[0m: Found input variables with inconsistent numbers of samples: [121, 96]"
          ]
        }
      ]
    },
    {
      "cell_type": "code",
      "source": [
        "svm.score(X_test, y_test)"
      ],
      "metadata": {
        "id": "f7BpJ2CNzJy-",
        "outputId": "71a47223-61db-4396-d9e2-fb93ba143d2a",
        "colab": {
          "base_uri": "https://localhost:8080/"
        }
      },
      "execution_count": null,
      "outputs": [
        {
          "output_type": "execute_result",
          "data": {
            "text/plain": [
              "0.6"
            ]
          },
          "metadata": {},
          "execution_count": 137
        }
      ]
    },
    {
      "cell_type": "markdown",
      "source": [
        "# Plot results"
      ],
      "metadata": {
        "id": "08CjuiGbxvfz"
      }
    },
    {
      "cell_type": "code",
      "source": [
        "# Define the mesh grid parameters\n",
        "h = .02  # Step size in the mesh\n",
        "x_min, x_max = X[:, 0].min() - 1, X[:, 0].max() + 1\n",
        "y_min, y_max = X[:, 1].min() - 1, X[:, 1].max() + 1\n",
        "xx, yy = np.meshgrid(np.arange(x_min, x_max, h), np.arange(y_min, y_max, h))\n"
      ],
      "metadata": {
        "collapsed": true,
        "id": "qQjsMR8oxuF5"
      },
      "execution_count": null,
      "outputs": []
    },
    {
      "cell_type": "code",
      "source": [
        "# Plot the data points\n",
        "plt.scatter(X[:, 0], X[:, 1], c=y, cmap=plt.cm.coolwarm, edgecolors='k')\n",
        "plt.xlabel('Feature 1')\n",
        "plt.ylabel('Feature 2')\n",
        "plt.title('Data Points and SVM Classification')\n",
        "\n",
        "Z = svm.predict(np.c_[xx.ravel(), yy.ravel()])\n",
        "Z = Z.reshape(xx.shape)\n",
        "\n",
        "# Plot the decision boundary\n",
        "plt.contourf(xx, yy, Z, alpha=0.3, cmap=plt.cm.coolwarm)\n",
        "plt.scatter(X[:, 0], X[:, 1], c=y, cmap=plt.cm.coolwarm, edgecolors='k')\n",
        "\n",
        "plt.xlabel('Feature 1')\n",
        "plt.ylabel('Feature 2')\n",
        "plt.title('SVM Decision Boundary with Data Points')\n",
        "plt.show()"
      ],
      "metadata": {
        "id": "yf7nCfhhzhXt",
        "outputId": "da438032-b7a5-42e6-bfd3-78915cef9d20",
        "colab": {
          "base_uri": "https://localhost:8080/",
          "height": 811
        }
      },
      "execution_count": null,
      "outputs": [
        {
          "output_type": "error",
          "ename": "ValueError",
          "evalue": "X has 2 features, but SVC is expecting 342 features as input.",
          "traceback": [
            "\u001b[0;31m---------------------------------------------------------------------------\u001b[0m",
            "\u001b[0;31mValueError\u001b[0m                                Traceback (most recent call last)",
            "\u001b[0;32m<ipython-input-136-7255451a7b6e>\u001b[0m in \u001b[0;36m<cell line: 7>\u001b[0;34m()\u001b[0m\n\u001b[1;32m      5\u001b[0m \u001b[0mplt\u001b[0m\u001b[0;34m.\u001b[0m\u001b[0mtitle\u001b[0m\u001b[0;34m(\u001b[0m\u001b[0;34m'Data Points and SVM Classification'\u001b[0m\u001b[0;34m)\u001b[0m\u001b[0;34m\u001b[0m\u001b[0;34m\u001b[0m\u001b[0m\n\u001b[1;32m      6\u001b[0m \u001b[0;34m\u001b[0m\u001b[0m\n\u001b[0;32m----> 7\u001b[0;31m \u001b[0mZ\u001b[0m \u001b[0;34m=\u001b[0m \u001b[0msvm\u001b[0m\u001b[0;34m.\u001b[0m\u001b[0mpredict\u001b[0m\u001b[0;34m(\u001b[0m\u001b[0mnp\u001b[0m\u001b[0;34m.\u001b[0m\u001b[0mc_\u001b[0m\u001b[0;34m[\u001b[0m\u001b[0mxx\u001b[0m\u001b[0;34m.\u001b[0m\u001b[0mravel\u001b[0m\u001b[0;34m(\u001b[0m\u001b[0;34m)\u001b[0m\u001b[0;34m,\u001b[0m \u001b[0myy\u001b[0m\u001b[0;34m.\u001b[0m\u001b[0mravel\u001b[0m\u001b[0;34m(\u001b[0m\u001b[0;34m)\u001b[0m\u001b[0;34m]\u001b[0m\u001b[0;34m)\u001b[0m\u001b[0;34m\u001b[0m\u001b[0;34m\u001b[0m\u001b[0m\n\u001b[0m\u001b[1;32m      8\u001b[0m \u001b[0mZ\u001b[0m \u001b[0;34m=\u001b[0m \u001b[0mZ\u001b[0m\u001b[0;34m.\u001b[0m\u001b[0mreshape\u001b[0m\u001b[0;34m(\u001b[0m\u001b[0mxx\u001b[0m\u001b[0;34m.\u001b[0m\u001b[0mshape\u001b[0m\u001b[0;34m)\u001b[0m\u001b[0;34m\u001b[0m\u001b[0;34m\u001b[0m\u001b[0m\n\u001b[1;32m      9\u001b[0m \u001b[0;34m\u001b[0m\u001b[0m\n",
            "\u001b[0;32m/usr/local/lib/python3.10/dist-packages/sklearn/svm/_base.py\u001b[0m in \u001b[0;36mpredict\u001b[0;34m(self, X)\u001b[0m\n\u001b[1;32m    816\u001b[0m             \u001b[0my\u001b[0m \u001b[0;34m=\u001b[0m \u001b[0mnp\u001b[0m\u001b[0;34m.\u001b[0m\u001b[0margmax\u001b[0m\u001b[0;34m(\u001b[0m\u001b[0mself\u001b[0m\u001b[0;34m.\u001b[0m\u001b[0mdecision_function\u001b[0m\u001b[0;34m(\u001b[0m\u001b[0mX\u001b[0m\u001b[0;34m)\u001b[0m\u001b[0;34m,\u001b[0m \u001b[0maxis\u001b[0m\u001b[0;34m=\u001b[0m\u001b[0;36m1\u001b[0m\u001b[0;34m)\u001b[0m\u001b[0;34m\u001b[0m\u001b[0;34m\u001b[0m\u001b[0m\n\u001b[1;32m    817\u001b[0m         \u001b[0;32melse\u001b[0m\u001b[0;34m:\u001b[0m\u001b[0;34m\u001b[0m\u001b[0;34m\u001b[0m\u001b[0m\n\u001b[0;32m--> 818\u001b[0;31m             \u001b[0my\u001b[0m \u001b[0;34m=\u001b[0m \u001b[0msuper\u001b[0m\u001b[0;34m(\u001b[0m\u001b[0;34m)\u001b[0m\u001b[0;34m.\u001b[0m\u001b[0mpredict\u001b[0m\u001b[0;34m(\u001b[0m\u001b[0mX\u001b[0m\u001b[0;34m)\u001b[0m\u001b[0;34m\u001b[0m\u001b[0;34m\u001b[0m\u001b[0m\n\u001b[0m\u001b[1;32m    819\u001b[0m         \u001b[0;32mreturn\u001b[0m \u001b[0mself\u001b[0m\u001b[0;34m.\u001b[0m\u001b[0mclasses_\u001b[0m\u001b[0;34m.\u001b[0m\u001b[0mtake\u001b[0m\u001b[0;34m(\u001b[0m\u001b[0mnp\u001b[0m\u001b[0;34m.\u001b[0m\u001b[0masarray\u001b[0m\u001b[0;34m(\u001b[0m\u001b[0my\u001b[0m\u001b[0;34m,\u001b[0m \u001b[0mdtype\u001b[0m\u001b[0;34m=\u001b[0m\u001b[0mnp\u001b[0m\u001b[0;34m.\u001b[0m\u001b[0mintp\u001b[0m\u001b[0;34m)\u001b[0m\u001b[0;34m)\u001b[0m\u001b[0;34m\u001b[0m\u001b[0;34m\u001b[0m\u001b[0m\n\u001b[1;32m    820\u001b[0m \u001b[0;34m\u001b[0m\u001b[0m\n",
            "\u001b[0;32m/usr/local/lib/python3.10/dist-packages/sklearn/svm/_base.py\u001b[0m in \u001b[0;36mpredict\u001b[0;34m(self, X)\u001b[0m\n\u001b[1;32m    429\u001b[0m             \u001b[0mThe\u001b[0m \u001b[0mpredicted\u001b[0m \u001b[0mvalues\u001b[0m\u001b[0;34m.\u001b[0m\u001b[0;34m\u001b[0m\u001b[0;34m\u001b[0m\u001b[0m\n\u001b[1;32m    430\u001b[0m         \"\"\"\n\u001b[0;32m--> 431\u001b[0;31m         \u001b[0mX\u001b[0m \u001b[0;34m=\u001b[0m \u001b[0mself\u001b[0m\u001b[0;34m.\u001b[0m\u001b[0m_validate_for_predict\u001b[0m\u001b[0;34m(\u001b[0m\u001b[0mX\u001b[0m\u001b[0;34m)\u001b[0m\u001b[0;34m\u001b[0m\u001b[0;34m\u001b[0m\u001b[0m\n\u001b[0m\u001b[1;32m    432\u001b[0m         \u001b[0mpredict\u001b[0m \u001b[0;34m=\u001b[0m \u001b[0mself\u001b[0m\u001b[0;34m.\u001b[0m\u001b[0m_sparse_predict\u001b[0m \u001b[0;32mif\u001b[0m \u001b[0mself\u001b[0m\u001b[0;34m.\u001b[0m\u001b[0m_sparse\u001b[0m \u001b[0;32melse\u001b[0m \u001b[0mself\u001b[0m\u001b[0;34m.\u001b[0m\u001b[0m_dense_predict\u001b[0m\u001b[0;34m\u001b[0m\u001b[0;34m\u001b[0m\u001b[0m\n\u001b[1;32m    433\u001b[0m         \u001b[0;32mreturn\u001b[0m \u001b[0mpredict\u001b[0m\u001b[0;34m(\u001b[0m\u001b[0mX\u001b[0m\u001b[0;34m)\u001b[0m\u001b[0;34m\u001b[0m\u001b[0;34m\u001b[0m\u001b[0m\n",
            "\u001b[0;32m/usr/local/lib/python3.10/dist-packages/sklearn/svm/_base.py\u001b[0m in \u001b[0;36m_validate_for_predict\u001b[0;34m(self, X)\u001b[0m\n\u001b[1;32m    609\u001b[0m \u001b[0;34m\u001b[0m\u001b[0m\n\u001b[1;32m    610\u001b[0m         \u001b[0;32mif\u001b[0m \u001b[0;32mnot\u001b[0m \u001b[0mcallable\u001b[0m\u001b[0;34m(\u001b[0m\u001b[0mself\u001b[0m\u001b[0;34m.\u001b[0m\u001b[0mkernel\u001b[0m\u001b[0;34m)\u001b[0m\u001b[0;34m:\u001b[0m\u001b[0;34m\u001b[0m\u001b[0;34m\u001b[0m\u001b[0m\n\u001b[0;32m--> 611\u001b[0;31m             X = self._validate_data(\n\u001b[0m\u001b[1;32m    612\u001b[0m                 \u001b[0mX\u001b[0m\u001b[0;34m,\u001b[0m\u001b[0;34m\u001b[0m\u001b[0;34m\u001b[0m\u001b[0m\n\u001b[1;32m    613\u001b[0m                 \u001b[0maccept_sparse\u001b[0m\u001b[0;34m=\u001b[0m\u001b[0;34m\"csr\"\u001b[0m\u001b[0;34m,\u001b[0m\u001b[0;34m\u001b[0m\u001b[0;34m\u001b[0m\u001b[0m\n",
            "\u001b[0;32m/usr/local/lib/python3.10/dist-packages/sklearn/base.py\u001b[0m in \u001b[0;36m_validate_data\u001b[0;34m(self, X, y, reset, validate_separately, cast_to_ndarray, **check_params)\u001b[0m\n\u001b[1;32m    624\u001b[0m \u001b[0;34m\u001b[0m\u001b[0m\n\u001b[1;32m    625\u001b[0m         \u001b[0;32mif\u001b[0m \u001b[0;32mnot\u001b[0m \u001b[0mno_val_X\u001b[0m \u001b[0;32mand\u001b[0m \u001b[0mcheck_params\u001b[0m\u001b[0;34m.\u001b[0m\u001b[0mget\u001b[0m\u001b[0;34m(\u001b[0m\u001b[0;34m\"ensure_2d\"\u001b[0m\u001b[0;34m,\u001b[0m \u001b[0;32mTrue\u001b[0m\u001b[0;34m)\u001b[0m\u001b[0;34m:\u001b[0m\u001b[0;34m\u001b[0m\u001b[0;34m\u001b[0m\u001b[0m\n\u001b[0;32m--> 626\u001b[0;31m             \u001b[0mself\u001b[0m\u001b[0;34m.\u001b[0m\u001b[0m_check_n_features\u001b[0m\u001b[0;34m(\u001b[0m\u001b[0mX\u001b[0m\u001b[0;34m,\u001b[0m \u001b[0mreset\u001b[0m\u001b[0;34m=\u001b[0m\u001b[0mreset\u001b[0m\u001b[0;34m)\u001b[0m\u001b[0;34m\u001b[0m\u001b[0;34m\u001b[0m\u001b[0m\n\u001b[0m\u001b[1;32m    627\u001b[0m \u001b[0;34m\u001b[0m\u001b[0m\n\u001b[1;32m    628\u001b[0m         \u001b[0;32mreturn\u001b[0m \u001b[0mout\u001b[0m\u001b[0;34m\u001b[0m\u001b[0;34m\u001b[0m\u001b[0m\n",
            "\u001b[0;32m/usr/local/lib/python3.10/dist-packages/sklearn/base.py\u001b[0m in \u001b[0;36m_check_n_features\u001b[0;34m(self, X, reset)\u001b[0m\n\u001b[1;32m    413\u001b[0m \u001b[0;34m\u001b[0m\u001b[0m\n\u001b[1;32m    414\u001b[0m         \u001b[0;32mif\u001b[0m \u001b[0mn_features\u001b[0m \u001b[0;34m!=\u001b[0m \u001b[0mself\u001b[0m\u001b[0;34m.\u001b[0m\u001b[0mn_features_in_\u001b[0m\u001b[0;34m:\u001b[0m\u001b[0;34m\u001b[0m\u001b[0;34m\u001b[0m\u001b[0m\n\u001b[0;32m--> 415\u001b[0;31m             raise ValueError(\n\u001b[0m\u001b[1;32m    416\u001b[0m                 \u001b[0;34mf\"X has {n_features} features, but {self.__class__.__name__} \"\u001b[0m\u001b[0;34m\u001b[0m\u001b[0;34m\u001b[0m\u001b[0m\n\u001b[1;32m    417\u001b[0m                 \u001b[0;34mf\"is expecting {self.n_features_in_} features as input.\"\u001b[0m\u001b[0;34m\u001b[0m\u001b[0;34m\u001b[0m\u001b[0m\n",
            "\u001b[0;31mValueError\u001b[0m: X has 2 features, but SVC is expecting 342 features as input."
          ]
        },
        {
          "output_type": "display_data",
          "data": {
            "text/plain": [
              "<Figure size 640x480 with 1 Axes>"
            ],
            "image/png": "[encoded data removed]"
          },
          "metadata": {}
        }
      ]
    },
    {
      "cell_type": "markdown",
      "source": [
        "# Make a prediction"
      ],
      "metadata": {
        "id": "sxgCyVC7l26X"
      }
    },
    {
      "cell_type": "code",
      "source": [
        "# Evaluate the model\n",
        "datax = np.expand_dims(dataControl[44], axis=0)\n",
        "x = cnn.predict(datax)\n",
        "\n",
        "print(\"ADHD\") if x[0] > 0.5 else print(\"Control\")\n"
      ],
      "metadata": {
        "colab": {
          "base_uri": "https://localhost:8080/"
        },
        "id": "zcRnY3RVl4z_",
        "outputId": "e84f3fe7-cd56-4c2b-ced3-e931817dc8e4"
      },
      "execution_count": null,
      "outputs": [
        {
          "output_type": "stream",
          "name": "stdout",
          "text": [
            "1/1 [==============================] - 0s 91ms/step\n",
            "Control\n"
          ]
        }
      ]
    },
    {
      "cell_type": "markdown",
      "source": [
        "# MISC\n"
      ],
      "metadata": {
        "id": "hFbsW0JJubEW"
      }
    },
    {
      "source": [
        "fig, axes = plt.subplots(nrows=2, ncols=1, figsize=(15, 10))\n",
        "axes = axes.flatten()\n",
        "df['2'].plot(kind='line', figsize=(8, 4), title='adhd', ax=axes[0])\n",
        "df2['2'].plot(kind='line', figsize=(8, 4), title='control', ax=axes[1])\n",
        "plt.gca().spines[['top', 'right']].set_visible(False)\n",
        "# plt.xlim([0,3000])\n",
        "plt.tight_layout()\n",
        "plt.show()\n"
      ],
      "cell_type": "code",
      "metadata": {
        "id": "kx1V-Li9nYH2"
      },
      "execution_count": null,
      "outputs": []
    }
  ]
}